{
 "cells": [
  {
   "cell_type": "markdown",
   "id": "e35a43b4",
   "metadata": {},
   "source": [
    "Reverse a string\n",
    "✅ Check if a string is a palindrome\n",
    "✅ Find duplicate characters in a string\n",
    "✅ Count vowels, consonants, digits, and spaces\n",
    "✅ Remove all whitespace from a string\n",
    "✅ Find the first non-repeated character ( asked in nagarro recently )\n",
    "✅ Check if two strings are anagrams\n",
    "✅ Count occurrences of a character\n",
    "✅ Convert string to integer (without using built-in methods)\n",
    "✅ Check if one string contains another\n",
    "✅ Replace all occurrences of a character\n",
    "✅ Split a string by delimiter (e.g., comma, space)\n",
    "✅ Sort characters in a string alphabetically\n",
    "✅ Find the longest word in a sentence\n",
    "✅ Compare two strings without using equals()"
   ]
  },
  {
   "cell_type": "code",
   "execution_count": 1,
   "id": "f8e70c10",
   "metadata": {},
   "outputs": [
    {
     "name": "stdout",
     "output_type": "stream",
     "text": [
      "True\n",
      "True\n",
      "False\n"
     ]
    }
   ],
   "source": [
    "#Check if a string is palindrome\n",
    "def is_palindrome(s):\n",
    "    for i in s:\n",
    "        if not i.isalnum():\n",
    "            s = s.replace(i, \"\")\n",
    "    if s.lower() == s[::-1].lower():\n",
    "        return(True)\n",
    "    else:\n",
    "        return(False)\n",
    "    \n",
    "#Test the function\n",
    "print(is_palindrome(\"Nitin\"))\n",
    "print(is_palindrome(\"Race car\"))\n",
    "print(is_palindrome(\"Ayushi\"))\n"
   ]
  },
  {
   "cell_type": "code",
   "execution_count": null,
   "id": "8d9f3ba9",
   "metadata": {},
   "outputs": [
    {
     "name": "stdout",
     "output_type": "stream",
     "text": [
      "t  \n",
      "s  \n",
      "i  \n",
      "n  \n",
      "   \n",
      "f  \n",
      "o  \n",
      "{'t': 3, 'e': 1, 's': 2, 'i': 3, 'n': 3, 'g': 1, ' ': 4, 'f': 2, 'm': 1, 'y': 1, 'u': 1, 'c': 1, 'o': 2, 'w': 1, 'r': 1, 'k': 1}\n"
     ]
    }
   ],
   "source": [
    "#Find duplicate characters in a string\n",
    "def dups(dict):\n",
    "    for i in dict.keys():\n",
    "        if dict[i] > 1:\n",
    "            print(i)\n",
    "\n",
    "def dup_chars(s):\n",
    "    my_dict = {}\n",
    "    for i in s:\n",
    "        if i in my_dict:\n",
    "            my_dict[i] += 1\n",
    "        else:\n",
    "            my_dict[i] = 1\n",
    "    dups(my_dict)\n",
    "    return(my_dict)\n",
    "\n",
    "\n",
    "print(dup_chars(\"testing if my function works\"))\n"
   ]
  },
  {
   "cell_type": "code",
   "execution_count": 11,
   "id": "5a13798e",
   "metadata": {},
   "outputs": [
    {
     "name": "stdout",
     "output_type": "stream",
     "text": [
      "{'vowels': 3, 'consonants': 10, 'digits': 2, 'spaces': 2}\n"
     ]
    }
   ],
   "source": [
    "#Count vowels, consonants, digits, and spaces\n",
    "def count_function(s):\n",
    "    my_dict = {\"vowels\" : 0, \"consonants\" : 0, \"digits\" : 0, \"spaces\" : 0}\n",
    "    for i in s:\n",
    "        if i == \" \":\n",
    "            my_dict[\"spaces\"] += 1\n",
    "        elif i.isdigit():\n",
    "            my_dict[\"digits\"] += 1\n",
    "        elif i.isalpha() and i not in 'aeiou':\n",
    "            my_dict[\"consonants\"] += 1\n",
    "        else:\n",
    "            my_dict[\"vowels\"] += 1\n",
    "    return(my_dict)\n",
    "\n",
    "print(count_function(\"Testing 12 Script\"))"
   ]
  },
  {
   "cell_type": "code",
   "execution_count": 12,
   "id": "32f614f1",
   "metadata": {},
   "outputs": [
    {
     "name": "stdout",
     "output_type": "stream",
     "text": [
      "1234Testing\n"
     ]
    }
   ],
   "source": [
    "#Remove all whitespace from a string\n",
    "\n",
    "def remove_space(s):\n",
    "    return s.replace(\" \", \"\")\n",
    "\n",
    "print(remove_space(\"1 2 3 4 Testing\"))"
   ]
  },
  {
   "cell_type": "code",
   "execution_count": null,
   "id": "4e78f138",
   "metadata": {},
   "outputs": [],
   "source": [
    "#Find the first non-repeated character ( asked in nagarro recently )\n"
   ]
  },
  {
   "cell_type": "code",
   "execution_count": null,
   "id": "7b06f024",
   "metadata": {},
   "outputs": [],
   "source": [
    "#Check if two strings are anagrams\n"
   ]
  },
  {
   "cell_type": "code",
   "execution_count": 15,
   "id": "f1754d74",
   "metadata": {},
   "outputs": [
    {
     "name": "stdout",
     "output_type": "stream",
     "text": [
      "longest\n"
     ]
    }
   ],
   "source": [
    "#Find the longest word in a sentence\n",
    "def longest_word(s):\n",
    "    my_list = s.split(\" \")\n",
    "    max_len = 0\n",
    "    max_word = \"\"\n",
    "    for i in my_list:\n",
    "        if len(i) > max_len:\n",
    "            max_word = i\n",
    "            max_len = len(i)\n",
    "    return max_word\n",
    "\n",
    "print(longest_word(\"Let's check out the longest word of the sent ence\"))\n"
   ]
  }
 ],
 "metadata": {
  "kernelspec": {
   "display_name": "Python 3",
   "language": "python",
   "name": "python3"
  },
  "language_info": {
   "codemirror_mode": {
    "name": "ipython",
    "version": 3
   },
   "file_extension": ".py",
   "mimetype": "text/x-python",
   "name": "python",
   "nbconvert_exporter": "python",
   "pygments_lexer": "ipython3",
   "version": "3.10.5"
  }
 },
 "nbformat": 4,
 "nbformat_minor": 5
}
